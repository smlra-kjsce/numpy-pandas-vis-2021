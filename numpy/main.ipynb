{
 "cells": [
  {
   "cell_type": "code",
   "execution_count": 55,
   "metadata": {},
   "outputs": [],
   "source": [
    "import numpy as np #importing numpy\n",
    "import time #importing time"
   ]
  },
  {
   "cell_type": "markdown",
   "metadata": {},
   "source": [
    "# Creating Arrays"
   ]
  },
  {
   "cell_type": "code",
   "execution_count": 56,
   "metadata": {},
   "outputs": [
    {
     "name": "stdout",
     "output_type": "stream",
     "text": [
      "arr1:  [1 2 3 4 5]\n",
      "arr2:  [0.01923495 0.32685337 0.34472442 0.85487526 0.60735457]\n"
     ]
    }
   ],
   "source": [
    "#creating a numpy array\n",
    "arr1=np.array([1,2,3,4,5])\n",
    "\n",
    "#creating a numpy array of random numbers\n",
    "arr2=np.random.rand(5)\n",
    "\n",
    "print(\"arr1: \",arr1)\n",
    "print(\"arr2: \",arr2)"
   ]
  },
  {
   "cell_type": "code",
   "execution_count": 57,
   "metadata": {},
   "outputs": [
    {
     "data": {
      "text/plain": [
       "(2, 10)"
      ]
     },
     "execution_count": 57,
     "metadata": {},
     "output_type": "execute_result"
    }
   ],
   "source": [
    "# 2d numpy array from 0-10 and 10-20\n",
    "arr1=np.array([range(1,11),range(11,21)])\n",
    "arr1.shape  # shape is the dimension, you generally go from outside to inside when validating the array shape"
   ]
  },
  {
   "cell_type": "code",
   "execution_count": 58,
   "metadata": {},
   "outputs": [
    {
     "name": "stdout",
     "output_type": "stream",
     "text": [
      "elem:  9\n"
     ]
    }
   ],
   "source": [
    "# get certain element from the array\n",
    "elem=arr1[0,8] # will get the element at 0th row and 8th column .i.e. 9\n",
    "print(\"elem: \",elem)"
   ]
  },
  {
   "cell_type": "code",
   "execution_count": 59,
   "metadata": {},
   "outputs": [
    {
     "name": "stdout",
     "output_type": "stream",
     "text": [
      "arr1:  [[  1   2   3   4   5   6   7   8 100  10]\n",
      " [ 11  12  13  14  15  16  17  18  19  20]]\n",
      "arr1:  [[  1   2   3   4   5 100 200 300 100  10]\n",
      " [ 11  12  13  14  15  16  17  18  19  20]]\n"
     ]
    }
   ],
   "source": [
    "# replace the element\n",
    "arr1[0,8]=100 # the 9 will be replaced by 100\n",
    "print(\"arr1: \",arr1)\n",
    "\n",
    "arr1[0,5:8]=[100,200,300] # the 5th to 7th element will be replaced by 100,200,300\n",
    "print(\"arr1: \",arr1)\n",
    "\n",
    "# different dimensions\n",
    "# arr1[0,5:8]=[100,200] # this will give an error because the dimensions are not the same"
   ]
  },
  {
   "cell_type": "markdown",
   "metadata": {},
   "source": [
    "# Special Arrays"
   ]
  },
  {
   "cell_type": "code",
   "execution_count": 60,
   "metadata": {},
   "outputs": [],
   "source": [
    "shape=(10000,10000)\n",
    "# arrays with same nums can be created easily with some inbuilt funcs\n",
    "s1=time.time()\n",
    "zero=np.zeros(shape) # creates a 3x3 array with all zeros\n",
    "e1=time.time()\n",
    "zt=e1-s1\n",
    "\n",
    "s2=time.time()\n",
    "one=np.ones(shape) # creates a 3x3 array with all ones\n",
    "e2=time.time()\n",
    "ot=e2-s2\n",
    "\n",
    "s3=time.time()\n",
    "fs=np.full(shape,5) # creates a 3x3 array with all 5s\n",
    "e3=time.time()\n",
    "ft=e3-s3\n",
    "\n",
    "s4=time.time()\n",
    "em=np.empty(shape) # creates an empty 3x3 array\n",
    "e4=time.time()\n",
    "emt=e4-s4\n",
    "\n",
    "# print(\"zero: \",zero)\n",
    "# print(\"one: \",one)\n",
    "# print(\"fs: \",fs)\n",
    "# print(\"em: \",em)"
   ]
  },
  {
   "cell_type": "code",
   "execution_count": 61,
   "metadata": {},
   "outputs": [
    {
     "name": "stdout",
     "output_type": "stream",
     "text": [
      "zero time:  0.000995635986328125\n",
      "one time:  0.1605696678161621\n",
      "fs time:  0.07878923416137695\n",
      "em time:  0.0\n"
     ]
    }
   ],
   "source": [
    "print(\"zero time: \",zt) # ~200 times faster than ones and full\n",
    "print(\"one time: \",ot)\n",
    "print(\"fs time: \",ft)\n",
    "print(\"em time: \",emt)# ~100 times faster than zeroes because initializes anything"
   ]
  },
  {
   "cell_type": "markdown",
   "metadata": {},
   "source": [
    "# Operations on a 3d array"
   ]
  },
  {
   "cell_type": "code",
   "execution_count": 62,
   "metadata": {},
   "outputs": [
    {
     "name": "stdout",
     "output_type": "stream",
     "text": [
      "[0.01923495 0.32685337 0.34472442 0.85487526 0.60735457]\n"
     ]
    },
    {
     "data": {
      "text/plain": [
       "(2, 2, 3)"
      ]
     },
     "execution_count": 62,
     "metadata": {},
     "output_type": "execute_result"
    }
   ],
   "source": [
    "#create a 3d array\n",
    "arr1=np.array([[[1,2,3],[4,5,6]],[[7,8,9],[10,11,12]]]) # think of this as a cube, the extra dimension is the depth\n",
    "print(arr2)\n",
    "arr1.shape"
   ]
  },
  {
   "cell_type": "code",
   "execution_count": 63,
   "metadata": {},
   "outputs": [
    {
     "name": "stdout",
     "output_type": "stream",
     "text": [
      "elem1:  [3 6]\n",
      "elem2:  [[ 4  5  6]\n",
      " [10 11 12]]\n"
     ]
    }
   ],
   "source": [
    "#getting certain elements from the array\n",
    "elem1=arr1[0,:,2] # will get the element at 0th row, all columns and 2nd depth\n",
    "print(\"elem1: \",elem1)\n",
    "\n",
    "elem2=arr1[:,1,:] # will get the element at all rows, 1st column and all depths\n",
    "print(\"elem2: \",elem2)"
   ]
  },
  {
   "cell_type": "code",
   "execution_count": 64,
   "metadata": {},
   "outputs": [
    {
     "name": "stdout",
     "output_type": "stream",
     "text": [
      "[[[ 1  2  3]\n",
      "  [21 22 23]]\n",
      "\n",
      " [[ 7  8  9]\n",
      "  [24 25 26]]]\n"
     ]
    }
   ],
   "source": [
    "#replacing certain elements\n",
    "arr1[:,1,:]=[[21,22,23],[24,25,26]] # will replace the 1st column of all rows with 21,22,23 and 24,25,26\n",
    "print(arr1)"
   ]
  },
  {
   "cell_type": "markdown",
   "metadata": {},
   "source": [
    "# Mathematical Operations and Linear Algebra"
   ]
  },
  {
   "cell_type": "code",
   "execution_count": 65,
   "metadata": {},
   "outputs": [
    {
     "name": "stdout",
     "output_type": "stream",
     "text": [
      "ans1:  [[2. 2. 2.]\n",
      " [2. 2. 2.]]\n",
      "ans2:  [[15. 15. 15. 15.]\n",
      " [15. 15. 15. 15.]]\n"
     ]
    }
   ],
   "source": [
    "arr1=np.ones((2,3))\n",
    "arr2=np.full((3,4),5)\n",
    "ans1=arr1+1 # adds 1 to all elements of arr1\n",
    "ans2=np.matmul(arr1,arr2) # multiplies arr1 and arr2\n",
    "\n",
    "print(\"ans1: \",ans1)\n",
    "print(\"ans2: \",ans2)"
   ]
  },
  {
   "cell_type": "code",
   "execution_count": 66,
   "metadata": {},
   "outputs": [
    {
     "name": "stdout",
     "output_type": "stream",
     "text": [
      "[[0.84147098 0.84147098 0.84147098]\n",
      " [0.84147098 0.84147098 0.84147098]]\n"
     ]
    }
   ],
   "source": [
    "#trignometric functions\n",
    "ans3=np.sin(arr1) # sin of arr1\n",
    "print(ans3)"
   ]
  },
  {
   "cell_type": "code",
   "execution_count": null,
   "metadata": {},
   "outputs": [],
   "source": []
  }
 ],
 "metadata": {
  "interpreter": {
   "hash": "8f7a9caefe3fbe01c4aa0205e6cc1c36763ed3d41b234746df90d0099aaa4109"
  },
  "kernelspec": {
   "display_name": "Python 3.8.8 64-bit ('tf': conda)",
   "name": "python3"
  },
  "language_info": {
   "codemirror_mode": {
    "name": "ipython",
    "version": 3
   },
   "file_extension": ".py",
   "mimetype": "text/x-python",
   "name": "python",
   "nbconvert_exporter": "python",
   "pygments_lexer": "ipython3",
   "version": "3.8.8"
  },
  "orig_nbformat": 4
 },
 "nbformat": 4,
 "nbformat_minor": 2
}
